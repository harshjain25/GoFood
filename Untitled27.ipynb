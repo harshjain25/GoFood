{
 "cells": [
  {
   "cell_type": "code",
   "execution_count": null,
   "id": "boring-manufacturer",
   "metadata": {},
   "outputs": [],
   "source": [
    "def power(n,m):\n",
    "    power=n,sum=1\n",
    "    if n==0:\n",
    "        sum1=0\n",
    "    while m>0:\n",
    "        if m&1==1:\n",
    "            sum1*=power\n",
    "        power=power**2\n",
    "        m=m>>1\n",
    "    return sum1\n",
    "if __name__=\"__main__\":\n",
    "    main()\n",
    "def main():\n",
    "    for _ in range(int(input())):\n",
    "        n=int(input())\n",
    "        l=list(map(int,input().split(\" \")))\n",
    "        cnt=0\n",
    "        v=[]\n",
    "        sum1=0\n",
    "        "
   ]
  },
  {
   "cell_type": "code",
   "execution_count": null,
   "id": "entitled-lecture",
   "metadata": {},
   "outputs": [],
   "source": [
    "for _ in range(int(input())):\n",
    "    n=int(input())\n",
    "    s=input()\n",
    "    freq1,freq2={},{}\n",
    "    v1=[0]*n\n",
    "    v2=[0]*n\n",
    "    v1[0]=1\n",
    "    freq1.get(s[0])+=1\n",
    "    for i in range(1,n):\n",
    "        if mp1.get(s[i])==mp1.get(s[-1]):\n",
    "            v1[i]=1+v1[i-1]\n",
    "        else:\n",
    "            v1[i]=v1[i-1]\n",
    "        mp1"
   ]
  },
  {
   "cell_type": "code",
   "execution_count": null,
   "id": "balanced-mortality",
   "metadata": {},
   "outputs": [],
   "source": [
    "for _ in range(int(input())):\n",
    "    n=int(input())\n",
    "    l=list(map(int,input().split(\" \")))\n",
    "    "
   ]
  },
  {
   "cell_type": "code",
   "execution_count": 41,
   "id": "through-denver",
   "metadata": {},
   "outputs": [
    {
     "name": "stdout",
     "output_type": "stream",
     "text": [
      "1\n",
      "10\n",
      "paiumoment\n",
      "2\n",
      "2\n",
      "12\n"
     ]
    }
   ],
   "source": [
    "for _ in range(int(input())):\n",
    "    n=int(input())\n",
    "    s=input()\n",
    "    freq = {}\n",
    "    l=0\n",
    "    r=0\n",
    "    for i in s:\n",
    "        if i in freq:\n",
    "            freq[i]+=1\n",
    "        else:\n",
    "            freq[i]=1\n",
    "    \n",
    "    for i in s:\n",
    "        if freq.get(i)>=2:\n",
    "            print(freq.get(i))\n",
    "            l+=1\n",
    "            r+=1\n",
    "        elif freq.get(i)==1:\n",
    "            l+=1\n",
    "    print(l+r)"
   ]
  },
  {
   "cell_type": "code",
   "execution_count": 2,
   "id": "ranging-stranger",
   "metadata": {},
   "outputs": [
    {
     "name": "stdout",
     "output_type": "stream",
     "text": [
      "10\n",
      "a\n",
      "NO\n",
      "b\n",
      "NO\n",
      "c\n",
      "YES\n",
      "d\n",
      "YES\n",
      "e\n",
      "YES\n",
      "f\n",
      "YES\n",
      "g\n",
      "NO\n",
      "h\n",
      "NO\n",
      "i\n",
      "NO\n",
      "j\n",
      "NO\n"
     ]
    }
   ],
   "source": [
    "for _ in range(int(input())):\n",
    "    c=\"codeforces\"\n",
    "    if input() in c:\n",
    "        print(\"YES\")\n",
    "    else:\n",
    "        print(\"NO\")"
   ]
  },
  {
   "cell_type": "code",
   "execution_count": 30,
   "id": "partial-rental",
   "metadata": {},
   "outputs": [
    {
     "name": "stdout",
     "output_type": "stream",
     "text": [
      "1\n",
      "88\n",
      "RRRUUDDD\n",
      "NO\n"
     ]
    }
   ],
   "source": [
    "for _ in range(int(input())):\n",
    "    x,y=0,0\n",
    "    l=int(input())\n",
    "    s=input()\n",
    "    for i in s:\n",
    "#         print(i)\n",
    "        if i=='U':\n",
    "            y+=1\n",
    "        if i=='R':\n",
    "            x+=1\n",
    "        if i=='L':\n",
    "            x-=1\n",
    "        if i=='D':\n",
    "            y-=1\n",
    "#         print(x,y)\n",
    "        if x==1 and y==1:\n",
    "            print(\"YES\")\n",
    "            break\n",
    "    else:\n",
    "        print(\"NO\")\n",
    "        "
   ]
  },
  {
   "cell_type": "code",
   "execution_count": 22,
   "id": "distinguished-banks",
   "metadata": {},
   "outputs": [
    {
     "name": "stdout",
     "output_type": "stream",
     "text": [
      "1\n",
      "6\n",
      "101010\n",
      "0\n"
     ]
    },
    {
     "ename": "IndexError",
     "evalue": "list index out of range",
     "output_type": "error",
     "traceback": [
      "\u001b[1;31m---------------------------------------------------------------------------\u001b[0m",
      "\u001b[1;31mIndexError\u001b[0m                                Traceback (most recent call last)",
      "\u001b[1;32m<ipython-input-22-8501177c7dba>\u001b[0m in \u001b[0;36m<module>\u001b[1;34m\u001b[0m\n\u001b[0;32m      9\u001b[0m         \u001b[1;32mbreak\u001b[0m\u001b[1;33m\u001b[0m\u001b[1;33m\u001b[0m\u001b[0m\n\u001b[0;32m     10\u001b[0m     \u001b[1;32mfor\u001b[0m \u001b[0mi\u001b[0m \u001b[1;32min\u001b[0m \u001b[0mrange\u001b[0m\u001b[1;33m(\u001b[0m\u001b[0mn\u001b[0m\u001b[1;33m)\u001b[0m\u001b[1;33m:\u001b[0m\u001b[1;33m\u001b[0m\u001b[1;33m\u001b[0m\u001b[0m\n\u001b[1;32m---> 11\u001b[1;33m         \u001b[1;32mif\u001b[0m \u001b[1;33m(\u001b[0m\u001b[0ms\u001b[0m\u001b[1;33m[\u001b[0m\u001b[1;36m0\u001b[0m\u001b[1;33m]\u001b[0m\u001b[1;33m==\u001b[0m\u001b[1;34m'0'\u001b[0m \u001b[1;32mand\u001b[0m \u001b[0ms\u001b[0m\u001b[1;33m[\u001b[0m\u001b[1;33m-\u001b[0m\u001b[1;36m1\u001b[0m\u001b[1;33m]\u001b[0m\u001b[1;33m==\u001b[0m\u001b[1;34m'1'\u001b[0m\u001b[1;33m)\u001b[0m \u001b[1;32mor\u001b[0m \u001b[1;33m(\u001b[0m\u001b[0ms\u001b[0m\u001b[1;33m[\u001b[0m\u001b[1;36m0\u001b[0m\u001b[1;33m]\u001b[0m\u001b[1;33m==\u001b[0m\u001b[1;34m'1'\u001b[0m \u001b[1;32mand\u001b[0m \u001b[0ms\u001b[0m\u001b[1;33m[\u001b[0m\u001b[1;33m-\u001b[0m\u001b[1;36m1\u001b[0m\u001b[1;33m]\u001b[0m\u001b[1;33m==\u001b[0m\u001b[1;34m'0'\u001b[0m\u001b[1;33m)\u001b[0m\u001b[1;33m:\u001b[0m\u001b[1;33m\u001b[0m\u001b[1;33m\u001b[0m\u001b[0m\n\u001b[0m\u001b[0;32m     12\u001b[0m             \u001b[1;32mdel\u001b[0m \u001b[0ms\u001b[0m\u001b[1;33m[\u001b[0m\u001b[1;36m0\u001b[0m\u001b[1;33m]\u001b[0m\u001b[1;33m\u001b[0m\u001b[1;33m\u001b[0m\u001b[0m\n\u001b[0;32m     13\u001b[0m             \u001b[1;32mdel\u001b[0m \u001b[0ms\u001b[0m\u001b[1;33m[\u001b[0m\u001b[1;33m-\u001b[0m\u001b[1;36m1\u001b[0m\u001b[1;33m]\u001b[0m\u001b[1;33m\u001b[0m\u001b[1;33m\u001b[0m\u001b[0m\n",
      "\u001b[1;31mIndexError\u001b[0m: list index out of range"
     ]
    }
   ],
   "source": [
    "for _ in range(int(input())):\n",
    "    n=int(input())\n",
    "    l=input()\n",
    "    s=[*l]\n",
    "    print(s[-1])\n",
    "    m=n\n",
    "    if (s[0]=='1' and s[-1]=='1') or(s[0]=='0' and s[-1]=='0'):\n",
    "        print(n)\n",
    "        break\n",
    "    for i in range(n):\n",
    "        if (s[0]=='0' and s[-1]=='1') or (s[0]=='1' and s[-1]=='0'):\n",
    "            del s[0]\n",
    "            del s[-1]\n",
    "            m-=2\n",
    "        else:\n",
    "            print(m)\n",
    "            break"
   ]
  },
  {
   "cell_type": "code",
   "execution_count": 35,
   "id": "pursuant-wages",
   "metadata": {},
   "outputs": [
    {
     "name": "stdout",
     "output_type": "stream",
     "text": [
      "1\n",
      "6\n",
      "101010\n",
      "0\n"
     ]
    }
   ],
   "source": [
    "for _ in range(int(input())):\n",
    "    n=int(input())\n",
    "    s=input()\n",
    "    l=0\n",
    "    r=n-1\n",
    "    a=n\n",
    "    while l<=r:\n",
    "        if (s[l]=='0' and s[r]=='1') or (s[l]=='1' and s[r]=='0'):\n",
    "            a-=2\n",
    "            l+=1\n",
    "            r-=1\n",
    "        else:\n",
    "            print(a)\n",
    "            break\n",
    "    else:\n",
    "        print(a)"
   ]
  },
  {
   "cell_type": "code",
   "execution_count": null,
   "id": "roman-situation",
   "metadata": {},
   "outputs": [],
   "source": []
  },
  {
   "cell_type": "code",
   "execution_count": null,
   "id": "descending-carol",
   "metadata": {},
   "outputs": [],
   "source": []
  }
 ],
 "metadata": {
  "kernelspec": {
   "display_name": "Python 3",
   "language": "python",
   "name": "python3"
  },
  "language_info": {
   "codemirror_mode": {
    "name": "ipython",
    "version": 3
   },
   "file_extension": ".py",
   "mimetype": "text/x-python",
   "name": "python",
   "nbconvert_exporter": "python",
   "pygments_lexer": "ipython3",
   "version": "3.9.2"
  }
 },
 "nbformat": 4,
 "nbformat_minor": 5
}
